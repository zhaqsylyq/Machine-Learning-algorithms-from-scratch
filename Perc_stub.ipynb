{
  "cells": [
    {
      "cell_type": "code",
      "execution_count": 1,
      "metadata": {
        "id": "AXH9gjfiIqUM"
      },
      "outputs": [],
      "source": [
        "import pylab as pl\n",
        "import scipy as sp\n",
        "import numpy as np\n",
        "from scipy.io import loadmat\n",
        "import pdb"
      ]
    },
    {
      "cell_type": "code",
      "execution_count": 2,
      "metadata": {
        "id": "PruCNAuYIqUO"
      },
      "outputs": [],
      "source": [
        "def load_data(fname):\n",
        "    # load the data\n",
        "    data = loadmat(fname)\n",
        "    # extract images and labels\n",
        "    imgs = data['data_patterns']\n",
        "    labels = data['data_labels']\n",
        "    return imgs, labels"
      ]
    },
    {
      "cell_type": "code",
      "execution_count": 68,
      "metadata": {
        "id": "NBSz5BKOIqUO"
      },
      "outputs": [],
      "source": [
        "def perceptron_train(X,Y,Xtest,Ytest,iterations=100,eta=.1):\n",
        "    # initialize accuracy vector\n",
        "    acc = np.zeros(iterations)\n",
        "    # initialize weight vector\n",
        "    weights = np.full((256, ), 1/256) # it should add up to 256 (1/256, 1/256, etc.)\n",
        "    # loop over iterations    \n",
        "    for it in sp.arange(iterations):\n",
        "        prediction = np.dot(weights.transpose(), X)\n",
        "        # indices of misclassified data\n",
        "        wrong_temp = np.sign(prediction) != Y\n",
        "        wrong = np.where(wrong_temp == 1)[0]\n",
        "        # check if there is misclassified data\n",
        "        if wrong.shape[0] > 0:\n",
        "            # pick a random misclassified data point\n",
        "            rit = np.random.choice(wrong)\n",
        "            # update weight vector\n",
        "            weights += np.dot((eta/(it+1)), np.dot(X[:, rit], Y[rit]))\n",
        "            # compute error\n",
        "            test_pred = np.dot(weights.transpose(), Xtest) # (603, )\n",
        "            correctAndNotCorrect = np.sign(test_pred) == Ytest\n",
        "            totalCorrect = np.sum(correctAndNotCorrect)\n",
        "            print(totalCorrect/Ytest.size)\n",
        "            acc[it] = totalCorrect/Ytest.size\n",
        "\n",
        "    # return weight vector and error\n",
        "    return weights,acc"
      ]
    },
    {
      "cell_type": "code",
      "execution_count": 70,
      "metadata": {
        "colab": {
          "base_uri": "https://localhost:8080/",
          "height": 1000
        },
        "id": "FXauOswOIqUP",
        "outputId": "6c227d32-44d0-4e58-f83d-e0b2a06a9e04"
      },
      "outputs": [
        {
          "output_type": "stream",
          "name": "stderr",
          "text": [
            "<ipython-input-70-3c236bdb0bae>:6: DeprecationWarning: scipy.sign is deprecated and will be removed in SciPy 2.0.0, use numpy.sign instead\n",
            "  labels = sp.sign((labels[digit,:]>0)-.5)\n",
            "<ipython-input-70-3c236bdb0bae>:9: DeprecationWarning: scipy.arange is deprecated and will be removed in SciPy 2.0.0, use numpy.arange instead\n",
            "  permidx = sp.random.permutation(sp.arange(imgs.shape[-1])) #(2007, )\n",
            "<ipython-input-70-3c236bdb0bae>:11: DeprecationWarning: scipy.floor is deprecated and will be removed in SciPy 2.0.0, use numpy.floor instead\n",
            "  stopat = sp.floor(labels.shape[-1]*trainpercent/100.)\n",
            "<ipython-input-68-8467a6e95ed8>:7: DeprecationWarning: scipy.arange is deprecated and will be removed in SciPy 2.0.0, use numpy.arange instead\n",
            "  for it in sp.arange(iterations):\n",
            "<ipython-input-70-3c236bdb0bae>:41: DeprecationWarning: scipy.sqrt is deprecated and will be removed in SciPy 2.0.0, use numpy.lib.scimath.sqrt instead\n",
            "  weights = sp.reshape(w,(int(sp.sqrt(imgs.shape[0])),int(sp.sqrt(imgs.shape[0]))))\n",
            "<ipython-input-70-3c236bdb0bae>:41: DeprecationWarning: scipy.reshape is deprecated and will be removed in SciPy 2.0.0, use numpy.reshape instead\n",
            "  weights = sp.reshape(w,(int(sp.sqrt(imgs.shape[0])),int(sp.sqrt(imgs.shape[0]))))\n"
          ]
        },
        {
          "output_type": "stream",
          "name": "stdout",
          "text": [
            "(256, 1404)\n",
            "(256, 603)\n",
            "(1404,)\n",
            "(603,)\n",
            "0.17744610281923714\n",
            "0.6948590381426202\n",
            "0.8474295190713101\n",
            "0.8557213930348259\n",
            "0.8623548922056384\n",
            "0.8656716417910447\n",
            "0.8822553897180763\n",
            "0.8805970149253731\n",
            "0.8938640132669984\n",
            "0.8905472636815921\n",
            "0.8905472636815921\n",
            "0.8922056384742952\n",
            "0.8971807628524047\n",
            "0.900497512437811\n",
            "0.8988391376451078\n",
            "0.9021558872305141\n",
            "0.9021558872305141\n",
            "0.9054726368159204\n",
            "0.9071310116086235\n",
            "0.9054726368159204\n",
            "0.9137645107794361\n",
            "0.9087893864013267\n",
            "0.9071310116086235\n",
            "0.9087893864013267\n",
            "0.912106135986733\n",
            "0.9054726368159204\n",
            "0.9071310116086235\n",
            "0.9104477611940298\n",
            "0.912106135986733\n",
            "0.9104477611940298\n",
            "0.9137645107794361\n",
            "0.9170812603648425\n",
            "0.9170812603648425\n",
            "0.9038142620232172\n",
            "0.9038142620232172\n",
            "0.9137645107794361\n",
            "0.9170812603648425\n",
            "0.9170812603648425\n",
            "0.9170812603648425\n",
            "0.9170812603648425\n",
            "0.9187396351575456\n",
            "0.9154228855721394\n",
            "0.9170812603648425\n",
            "0.9203980099502488\n",
            "0.9220563847429519\n",
            "0.9203980099502488\n",
            "0.9220563847429519\n",
            "0.9203980099502488\n",
            "0.9220563847429519\n",
            "0.9187396351575456\n",
            "0.9187396351575456\n",
            "0.9237147595356551\n",
            "0.9170812603648425\n",
            "0.9170812603648425\n",
            "0.9203980099502488\n",
            "0.9203980099502488\n",
            "0.9253731343283582\n",
            "0.9220563847429519\n",
            "0.9220563847429519\n",
            "0.9187396351575456\n",
            "0.9220563847429519\n",
            "0.9270315091210614\n",
            "0.9237147595356551\n",
            "0.9320066334991708\n",
            "0.9303482587064676\n",
            "0.9253731343283582\n",
            "0.9270315091210614\n",
            "0.9253731343283582\n",
            "0.9270315091210614\n",
            "0.9286898839137645\n",
            "0.9237147595356551\n",
            "0.9270315091210614\n",
            "0.9286898839137645\n",
            "0.9270315091210614\n",
            "0.9336650082918739\n",
            "0.9353233830845771\n",
            "0.9320066334991708\n",
            "0.9320066334991708\n",
            "0.9353233830845771\n",
            "0.9303482587064676\n",
            "0.9336650082918739\n",
            "0.9270315091210614\n",
            "0.9286898839137645\n",
            "0.9320066334991708\n",
            "0.9253731343283582\n",
            "0.9320066334991708\n",
            "0.9303482587064676\n",
            "0.9237147595356551\n",
            "0.9303482587064676\n",
            "0.9286898839137645\n",
            "0.9253731343283582\n",
            "0.9270315091210614\n",
            "0.9353233830845771\n",
            "0.9402985074626866\n",
            "0.9336650082918739\n",
            "0.9303482587064676\n",
            "0.9303482587064676\n",
            "0.9270315091210614\n",
            "0.9253731343283582\n",
            "0.9237147595356551\n"
          ]
        },
        {
          "output_type": "display_data",
          "data": {
            "text/plain": [
              "<Figure size 720x360 with 3 Axes>"
            ],
            "image/png": "[encoded data removed]"
          },
          "metadata": {
            "needs_background": "light"
          }
        }
      ],
      "source": [
        "digit = 0\n",
        "fname = \"usps.mat\"\n",
        "\n",
        "imgs,labels = load_data(fname)\n",
        "# we only want to classify one digit \n",
        "labels = sp.sign((labels[digit,:]>0)-.5)\n",
        "\n",
        "# please think about what the next lines do\n",
        "permidx = sp.random.permutation(sp.arange(imgs.shape[-1])) #(2007, )\n",
        "trainpercent = 70.\n",
        "stopat = sp.floor(labels.shape[-1]*trainpercent/100.)\n",
        "stopat= int(stopat)\n",
        "\n",
        "# cut segment data into train and test set into two non-overlapping sets:\n",
        "X_full = imgs[:, permidx]\n",
        "X = X_full[:, 0:stopat]\n",
        "Xtest = X_full[:, stopat:2007]\n",
        "\n",
        "Y_full = labels[permidx]\n",
        "Y = Y_full[0:stopat] \n",
        "Ytest = Y_full[stopat:2007]\n",
        "#check that shapes of X and Y make sense..\n",
        "print(X.shape) # (256, 1404)\n",
        "print(Xtest.shape) # (256, 603)\n",
        "print(Y.shape) # (1404,)\n",
        "print(Ytest.shape) # (603,)\n",
        "# it might makes sense to print them\n",
        "\n",
        "w,acc_perceptron = perceptron_train(X,Y,Xtest,Ytest)\n",
        "\n",
        "fig = pl.figure(figsize=(10,5))\n",
        "ax1 = fig.add_subplot(1,2,1)\n",
        "ax1.plot(acc_perceptron*100.)\n",
        "pl.xlabel('Iterations')\n",
        "pl.title('Linear Perceptron')\n",
        "pl.ylabel('Accuracy [%]')\n",
        "\n",
        "# and imshow the weight vector\n",
        "ax2 = fig.add_subplot(1,2,2)\n",
        "# reshape weight vector\n",
        "weights = sp.reshape(w,(int(sp.sqrt(imgs.shape[0])),int(sp.sqrt(imgs.shape[0]))))\n",
        "# plot the weight image\n",
        "imgh = ax2.imshow(weights)\n",
        "# with colorbar\n",
        "pl.colorbar(imgh)\n",
        "ax2.set_title('Weight vector')\n",
        "# remove axis ticks\n",
        "pl.xticks(())\n",
        "pl.yticks(())\n",
        "# remove axis ticks\n",
        "pl.xticks(())\n",
        "pl.yticks(())\n",
        "\n",
        "# write the picture to pdf\n",
        "fname = 'Perceptron_digits-%d.pdf'%digit\n",
        "pl.savefig(fname)\n",
        "\n"
      ]
    },
    {
      "cell_type": "markdown",
      "source": [
        "My chernovik"
      ],
      "metadata": {
        "id": "cvwMktsw6Zge"
      }
    },
    {
      "cell_type": "code",
      "source": [
        "# blah = ((0.1/1) * X[:, 5] * Y[5])\n",
        "# blah.shape\n",
        "\n",
        "# rand_w = np.random.randint(1, size = (256, ))\n",
        "# dummy_pred = np.dot(rand_w.transpose(), Xtest)\n",
        "# print(dummy_pred.shape)\n",
        "# print(Ytest.size)\n",
        "\n",
        "w = np.full((256, ), 1/256)\n",
        "#print(w)\n",
        "w2 = np.random.randint(1, size = (256, ))\n",
        "# print(w2.shape)\n",
        "\n",
        "\n",
        "prd = np.dot(w.transpose(), X)\n",
        "print(prd.shape)\n",
        "wrong_temp = np.sign(prd) != Y\n",
        "print(wrong_temp)\n",
        "print(np.sign(prd))\n",
        "print(Y)\n",
        "wrong = np.where(wrong_temp == 1)[0]\n",
        "#print(wrong)\n",
        "print(wrong.shape[0])\n",
        "if wrong.shape[0] > 0:\n",
        "    # pick a random misclassified data point\n",
        "    rit = np.random.choice(wrong)\n",
        "    # update weight vector\n",
        "    print(Y[rit])\n",
        "    print(w.shape)\n",
        "    w += np.dot((0.1/1), np.dot(X[:, rit], Y[rit]))\n",
        "    #print(w)\n",
        "    #compute error\n",
        "    test_pred = np.dot(w.transpose(), Xtest) # (603, )\n",
        "    correctAndNotCorrect = np.sign(test_pred) == Ytest\n",
        "    totalCorrect = np.sum(correctAndNotCorrect)\n",
        "    acc = totalCorrect/Ytest.size\n",
        "    print(acc)"
      ],
      "metadata": {
        "colab": {
          "base_uri": "https://localhost:8080/"
        },
        "id": "OvPnwCiZPNNr",
        "outputId": "71fffb65-d9db-4cf3-bef5-53e364226508"
      },
      "execution_count": 63,
      "outputs": [
        {
          "output_type": "stream",
          "name": "stdout",
          "text": [
            "(1404,)\n",
            "[False  True False ... False False False]\n",
            "[-1. -1. -1. ... -1. -1. -1.]\n",
            "[-1.  1. -1. ... -1. -1. -1.]\n",
            "230\n",
            "1.0\n",
            "(256,)\n",
            "0.19071310116086235\n"
          ]
        }
      ]
    },
    {
      "cell_type": "code",
      "source": [
        "weights = np.random.randint(1, size = (256, )) # it should add up to 256 (1/256, 1/256, etc.)\n",
        "# loop over iterations    \n",
        "prediction = np.dot(weights.transpose(), X)\n",
        "# print(prediction.shape)\n",
        "# indices of misclassified data\n",
        "wrong = np.sign(prediction) != Y\n",
        "a = np.array([1, -1, 1])\n",
        "print(a.shape)\n",
        "print(np.where(a == 1)[0])\n",
        "print(wrong.shape)\n",
        "# wrong = np.where(wrong == 1)[0]\n",
        "# print(wrong)"
      ],
      "metadata": {
        "colab": {
          "base_uri": "https://localhost:8080/"
        },
        "id": "i9Wn4K91Xae9",
        "outputId": "f1a9a7cf-21eb-43bb-b833-960e2cfb7be4"
      },
      "execution_count": 43,
      "outputs": [
        {
          "output_type": "stream",
          "name": "stdout",
          "text": [
            "(3,)\n",
            "[0 2]\n",
            "(1404,)\n"
          ]
        }
      ]
    },
    {
      "cell_type": "code",
      "execution_count": null,
      "metadata": {
        "id": "MTGR5Nx5IqUQ"
      },
      "outputs": [],
      "source": []
    }
  ],
  "metadata": {
    "kernelspec": {
      "display_name": "Python 3 (ipykernel)",
      "language": "python",
      "name": "python3"
    },
    "language_info": {
      "codemirror_mode": {
        "name": "ipython",
        "version": 3
      },
      "file_extension": ".py",
      "mimetype": "text/x-python",
      "name": "python",
      "nbconvert_exporter": "python",
      "pygments_lexer": "ipython3",
      "version": "3.7.13"
    },
    "colab": {
      "provenance": []
    }
  },
  "nbformat": 4,
  "nbformat_minor": 0
}